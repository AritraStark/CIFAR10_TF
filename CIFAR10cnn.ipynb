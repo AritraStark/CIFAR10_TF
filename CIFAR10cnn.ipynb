{
  "nbformat": 4,
  "nbformat_minor": 0,
  "metadata": {
    "colab": {
      "name": "CIFAR10cnn.ipynb",
      "provenance": [],
      "authorship_tag": "ABX9TyOkLEw0iNfdNCO7u0moO2Y5",
      "include_colab_link": true
    },
    "kernelspec": {
      "name": "python3",
      "display_name": "Python 3"
    },
    "language_info": {
      "name": "python"
    }
  },
  "cells": [
    {
      "cell_type": "markdown",
      "metadata": {
        "id": "view-in-github",
        "colab_type": "text"
      },
      "source": [
        "<a href=\"https://colab.research.google.com/github/AritraStark/CIFAR10_TF/blob/main/CIFAR10cnn.ipynb\" target=\"_parent\"><img src=\"https://colab.research.google.com/assets/colab-badge.svg\" alt=\"Open In Colab\"/></a>"
      ]
    },
    {
      "cell_type": "markdown",
      "source": [
        "**CIFAR 10 image classification**\n",
        "\n",
        "Setting up imports"
      ],
      "metadata": {
        "id": "SXubXSE4_2Pw"
      }
    },
    {
      "cell_type": "code",
      "source": [
        "!pip install tensorflow==2.2.0\n",
        "\n",
        "import tensorflow as tf\n",
        "import seaborn as sns\n",
        "import numpy as np\n",
        "import pandas as pd\n",
        "import matplotlib.pyplot as plt\n",
        "import matplotlib.image as mpimg\n",
        "import itertools\n",
        "\n",
        "print(tf.__version__)"
      ],
      "metadata": {
        "id": "-_AxM_R8_3Ss"
      },
      "execution_count": null,
      "outputs": []
    },
    {
      "cell_type": "markdown",
      "source": [
        "Initializing dataset and variables"
      ],
      "metadata": {
        "id": "vwsLnqAIAGU5"
      }
    },
    {
      "cell_type": "code",
      "source": [
        "cifar10 = tf.keras.datasets.cifar10\n",
        "(x_train, y_train), (x_test, y_test) = cifar10.load_data()"
      ],
      "metadata": {
        "id": "94akKEclXuT9"
      },
      "execution_count": null,
      "outputs": []
    },
    {
      "cell_type": "markdown",
      "source": [
        "Setting up names of classes to classify the images to and plot the classes in a graph\n",
        "\n"
      ],
      "metadata": {
        "id": "qvLgA38MXwEw"
      }
    },
    {
      "cell_type": "code",
      "source": [
        "classes = ['airplane', 'automobile', 'bird', 'cat', 'deer', 'dog', 'frog', 'horse', 'ship', 'truck']\n",
        "\n",
        "plt.figure(figsize=(10,7))\n",
        "p = sns.countplot(y_train.flatten())\n",
        "p.set(xticklabels=classes)"
      ],
      "metadata": {
        "id": "DowdmKGRXyx4"
      },
      "execution_count": null,
      "outputs": []
    },
    {
      "cell_type": "markdown",
      "source": [
        "Define input shape and reshape the train and test matrices into vectors, then normalize their rgb values into values between 0 and 1.\n"
      ],
      "metadata": {
        "id": "xnJSwsFFX0iO"
      }
    },
    {
      "cell_type": "code",
      "source": [
        "input_shape = (32, 32, 3)\n",
        "\n",
        "x_train = x_train.reshape(x_train.shape[0], x_train.shape[1], x_train.shape[2], 3)\n",
        "x_test = x_test.reshape(x_test.shape[0], x_test.shape[1], x_test.shape[2], 3)\n",
        "\n",
        "x_train=x_train / 255.0\n",
        "x_test=x_test / 255.0"
      ],
      "metadata": {
        "id": "z-K61IjqX2ck"
      },
      "execution_count": null,
      "outputs": []
    }
  ]
}