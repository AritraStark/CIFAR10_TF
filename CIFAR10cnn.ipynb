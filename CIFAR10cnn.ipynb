{
  "nbformat": 4,
  "nbformat_minor": 0,
  "metadata": {
    "colab": {
      "name": "CIFAR10cnn.ipynb",
      "provenance": [],
      "authorship_tag": "ABX9TyMgvnuwGGwZNd8l2OdHVqeS",
      "include_colab_link": true
    },
    "kernelspec": {
      "name": "python3",
      "display_name": "Python 3"
    },
    "language_info": {
      "name": "python"
    }
  },
  "cells": [
    {
      "cell_type": "markdown",
      "metadata": {
        "id": "view-in-github",
        "colab_type": "text"
      },
      "source": [
        "<a href=\"https://colab.research.google.com/github/AritraStark/CIFAR10_TF/blob/main/CIFAR10cnn.ipynb\" target=\"_parent\"><img src=\"https://colab.research.google.com/assets/colab-badge.svg\" alt=\"Open In Colab\"/></a>"
      ]
    },
    {
      "cell_type": "markdown",
      "source": [
        "**CIFAR 10 image classification**\n",
        "\n",
        "Setting up imports"
      ],
      "metadata": {
        "id": "SXubXSE4_2Pw"
      }
    },
    {
      "cell_type": "code",
      "source": [
        "!pip install tensorflow==2.8.0\n",
        "\n",
        "import tensorflow as tf\n",
        "import seaborn as sns\n",
        "import numpy as np\n",
        "import pandas as pd\n",
        "import matplotlib.pyplot as plt\n",
        "import matplotlib.image as mpimg\n",
        "import itertools\n",
        "\n",
        "print(tf.__version__)"
      ],
      "metadata": {
        "id": "-_AxM_R8_3Ss",
        "outputId": "3e6b80f0-ca41-4b1f-fdf2-2ffc736a7d95",
        "colab": {
          "base_uri": "https://localhost:8080/"
        }
      },
      "execution_count": 2,
      "outputs": [
        {
          "output_type": "stream",
          "name": "stdout",
          "text": [
            "Requirement already satisfied: tensorflow==2.8.0 in /usr/local/lib/python3.7/dist-packages (2.8.0)\n",
            "Requirement already satisfied: tf-estimator-nightly==2.8.0.dev2021122109 in /usr/local/lib/python3.7/dist-packages (from tensorflow==2.8.0) (2.8.0.dev2021122109)\n",
            "Requirement already satisfied: google-pasta>=0.1.1 in /usr/local/lib/python3.7/dist-packages (from tensorflow==2.8.0) (0.2.0)\n",
            "Requirement already satisfied: numpy>=1.20 in /usr/local/lib/python3.7/dist-packages (from tensorflow==2.8.0) (1.21.5)\n",
            "Requirement already satisfied: tensorflow-io-gcs-filesystem>=0.23.1 in /usr/local/lib/python3.7/dist-packages (from tensorflow==2.8.0) (0.24.0)\n",
            "Requirement already satisfied: opt-einsum>=2.3.2 in /usr/local/lib/python3.7/dist-packages (from tensorflow==2.8.0) (3.3.0)\n",
            "Requirement already satisfied: protobuf>=3.9.2 in /usr/local/lib/python3.7/dist-packages (from tensorflow==2.8.0) (3.17.3)\n",
            "Requirement already satisfied: setuptools in /usr/local/lib/python3.7/dist-packages (from tensorflow==2.8.0) (57.4.0)\n",
            "Requirement already satisfied: astunparse>=1.6.0 in /usr/local/lib/python3.7/dist-packages (from tensorflow==2.8.0) (1.6.3)\n",
            "Requirement already satisfied: grpcio<2.0,>=1.24.3 in /usr/local/lib/python3.7/dist-packages (from tensorflow==2.8.0) (1.44.0)\n",
            "Requirement already satisfied: tensorboard<2.9,>=2.8 in /usr/local/lib/python3.7/dist-packages (from tensorflow==2.8.0) (2.8.0)\n",
            "Requirement already satisfied: libclang>=9.0.1 in /usr/local/lib/python3.7/dist-packages (from tensorflow==2.8.0) (13.0.0)\n",
            "Requirement already satisfied: termcolor>=1.1.0 in /usr/local/lib/python3.7/dist-packages (from tensorflow==2.8.0) (1.1.0)\n",
            "Requirement already satisfied: wrapt>=1.11.0 in /usr/local/lib/python3.7/dist-packages (from tensorflow==2.8.0) (1.13.3)\n",
            "Requirement already satisfied: flatbuffers>=1.12 in /usr/local/lib/python3.7/dist-packages (from tensorflow==2.8.0) (2.0)\n",
            "Requirement already satisfied: h5py>=2.9.0 in /usr/local/lib/python3.7/dist-packages (from tensorflow==2.8.0) (2.10.0)\n",
            "Requirement already satisfied: keras-preprocessing>=1.1.1 in /usr/local/lib/python3.7/dist-packages (from tensorflow==2.8.0) (1.1.2)\n",
            "Requirement already satisfied: gast>=0.2.1 in /usr/local/lib/python3.7/dist-packages (from tensorflow==2.8.0) (0.3.3)\n",
            "Requirement already satisfied: keras<2.9,>=2.8.0rc0 in /usr/local/lib/python3.7/dist-packages (from tensorflow==2.8.0) (2.8.0)\n",
            "Requirement already satisfied: absl-py>=0.4.0 in /usr/local/lib/python3.7/dist-packages (from tensorflow==2.8.0) (1.0.0)\n",
            "Requirement already satisfied: six>=1.12.0 in /usr/local/lib/python3.7/dist-packages (from tensorflow==2.8.0) (1.15.0)\n",
            "Requirement already satisfied: typing-extensions>=3.6.6 in /usr/local/lib/python3.7/dist-packages (from tensorflow==2.8.0) (3.10.0.2)\n",
            "Requirement already satisfied: wheel<1.0,>=0.23.0 in /usr/local/lib/python3.7/dist-packages (from astunparse>=1.6.0->tensorflow==2.8.0) (0.37.1)\n",
            "Requirement already satisfied: google-auth-oauthlib<0.5,>=0.4.1 in /usr/local/lib/python3.7/dist-packages (from tensorboard<2.9,>=2.8->tensorflow==2.8.0) (0.4.6)\n",
            "Requirement already satisfied: markdown>=2.6.8 in /usr/local/lib/python3.7/dist-packages (from tensorboard<2.9,>=2.8->tensorflow==2.8.0) (3.3.6)\n",
            "Requirement already satisfied: google-auth<3,>=1.6.3 in /usr/local/lib/python3.7/dist-packages (from tensorboard<2.9,>=2.8->tensorflow==2.8.0) (1.35.0)\n",
            "Requirement already satisfied: tensorboard-plugin-wit>=1.6.0 in /usr/local/lib/python3.7/dist-packages (from tensorboard<2.9,>=2.8->tensorflow==2.8.0) (1.8.1)\n",
            "Requirement already satisfied: requests<3,>=2.21.0 in /usr/local/lib/python3.7/dist-packages (from tensorboard<2.9,>=2.8->tensorflow==2.8.0) (2.23.0)\n",
            "Requirement already satisfied: werkzeug>=0.11.15 in /usr/local/lib/python3.7/dist-packages (from tensorboard<2.9,>=2.8->tensorflow==2.8.0) (1.0.1)\n",
            "Requirement already satisfied: tensorboard-data-server<0.7.0,>=0.6.0 in /usr/local/lib/python3.7/dist-packages (from tensorboard<2.9,>=2.8->tensorflow==2.8.0) (0.6.1)\n",
            "Requirement already satisfied: cachetools<5.0,>=2.0.0 in /usr/local/lib/python3.7/dist-packages (from google-auth<3,>=1.6.3->tensorboard<2.9,>=2.8->tensorflow==2.8.0) (4.2.4)\n",
            "Requirement already satisfied: pyasn1-modules>=0.2.1 in /usr/local/lib/python3.7/dist-packages (from google-auth<3,>=1.6.3->tensorboard<2.9,>=2.8->tensorflow==2.8.0) (0.2.8)\n",
            "Requirement already satisfied: rsa<5,>=3.1.4 in /usr/local/lib/python3.7/dist-packages (from google-auth<3,>=1.6.3->tensorboard<2.9,>=2.8->tensorflow==2.8.0) (4.8)\n",
            "Requirement already satisfied: requests-oauthlib>=0.7.0 in /usr/local/lib/python3.7/dist-packages (from google-auth-oauthlib<0.5,>=0.4.1->tensorboard<2.9,>=2.8->tensorflow==2.8.0) (1.3.1)\n",
            "Requirement already satisfied: importlib-metadata>=4.4 in /usr/local/lib/python3.7/dist-packages (from markdown>=2.6.8->tensorboard<2.9,>=2.8->tensorflow==2.8.0) (4.11.2)\n",
            "Requirement already satisfied: zipp>=0.5 in /usr/local/lib/python3.7/dist-packages (from importlib-metadata>=4.4->markdown>=2.6.8->tensorboard<2.9,>=2.8->tensorflow==2.8.0) (3.7.0)\n",
            "Requirement already satisfied: pyasn1<0.5.0,>=0.4.6 in /usr/local/lib/python3.7/dist-packages (from pyasn1-modules>=0.2.1->google-auth<3,>=1.6.3->tensorboard<2.9,>=2.8->tensorflow==2.8.0) (0.4.8)\n",
            "Requirement already satisfied: idna<3,>=2.5 in /usr/local/lib/python3.7/dist-packages (from requests<3,>=2.21.0->tensorboard<2.9,>=2.8->tensorflow==2.8.0) (2.10)\n",
            "Requirement already satisfied: chardet<4,>=3.0.2 in /usr/local/lib/python3.7/dist-packages (from requests<3,>=2.21.0->tensorboard<2.9,>=2.8->tensorflow==2.8.0) (3.0.4)\n",
            "Requirement already satisfied: certifi>=2017.4.17 in /usr/local/lib/python3.7/dist-packages (from requests<3,>=2.21.0->tensorboard<2.9,>=2.8->tensorflow==2.8.0) (2021.10.8)\n",
            "Requirement already satisfied: urllib3!=1.25.0,!=1.25.1,<1.26,>=1.21.1 in /usr/local/lib/python3.7/dist-packages (from requests<3,>=2.21.0->tensorboard<2.9,>=2.8->tensorflow==2.8.0) (1.24.3)\n",
            "Requirement already satisfied: oauthlib>=3.0.0 in /usr/local/lib/python3.7/dist-packages (from requests-oauthlib>=0.7.0->google-auth-oauthlib<0.5,>=0.4.1->tensorboard<2.9,>=2.8->tensorflow==2.8.0) (3.2.0)\n",
            "2.8.0\n"
          ]
        }
      ]
    },
    {
      "cell_type": "markdown",
      "source": [
        "Initializing dataset and variables"
      ],
      "metadata": {
        "id": "vwsLnqAIAGU5"
      }
    },
    {
      "cell_type": "code",
      "source": [
        "cifar10 = tf.keras.datasets.cifar10\n",
        "(x_train, y_train), (x_test, y_test) = cifar10.load_data()\n",
        "\n",
        "y_train = y_train.flatten()\n",
        "y_test = y_test.flatten()"
      ],
      "metadata": {
        "id": "94akKEclXuT9"
      },
      "execution_count": 15,
      "outputs": []
    },
    {
      "cell_type": "markdown",
      "source": [
        "Setting up names of classes to classify the images to and plot the classes in a graph\n",
        "\n"
      ],
      "metadata": {
        "id": "qvLgA38MXwEw"
      }
    },
    {
      "cell_type": "code",
      "source": [
        "classes = ['airplane', 'automobile', 'bird', 'cat', 'deer', 'dog', 'frog', 'horse', 'ship', 'truck']\n",
        "\n",
        "plt.figure(figsize=(10,7))\n",
        "p = sns.countplot(y_train.flatten())\n",
        "p.set(xticklabels=classes)"
      ],
      "metadata": {
        "id": "DowdmKGRXyx4",
        "outputId": "87aa651c-1259-435c-f33d-3196cde426b6",
        "colab": {
          "base_uri": "https://localhost:8080/",
          "height": 656
        }
      },
      "execution_count": 16,
      "outputs": [
        {
          "output_type": "stream",
          "name": "stderr",
          "text": [
            "/usr/local/lib/python3.7/dist-packages/seaborn/_decorators.py:43: FutureWarning: Pass the following variable as a keyword arg: x. From version 0.12, the only valid positional argument will be `data`, and passing other arguments without an explicit keyword will result in an error or misinterpretation.\n",
            "  FutureWarning\n"
          ]
        },
        {
          "output_type": "execute_result",
          "data": {
            "text/plain": [
              "[[Text(0, 0, 'airplane'),\n",
              "  Text(0, 0, 'automobile'),\n",
              "  Text(0, 0, 'bird'),\n",
              "  Text(0, 0, 'cat'),\n",
              "  Text(0, 0, 'deer'),\n",
              "  Text(0, 0, 'dog'),\n",
              "  Text(0, 0, 'frog'),\n",
              "  Text(0, 0, 'horse'),\n",
              "  Text(0, 0, 'ship'),\n",
              "  Text(0, 0, 'truck')]]"
            ]
          },
          "metadata": {},
          "execution_count": 16
        },
        {
          "output_type": "display_data",
          "data": {
            "text/plain": [
              "<Figure size 720x504 with 1 Axes>"
            ],
            "image/png": "[encoded data removed]"
          },
          "metadata": {
            "needs_background": "light"
          }
        }
      ]
    },
    {
      "cell_type": "markdown",
      "source": [
        "Define input shape and reshape the train and test matrices into vectors, then normalize their rgb values into values between 0 and 1.\n"
      ],
      "metadata": {
        "id": "xnJSwsFFX0iO"
      }
    },
    {
      "cell_type": "code",
      "source": [
        "input_shape = (32, 32, 3)\n",
        "\n",
        "x_train = x_train.reshape(x_train.shape[0], x_train.shape[1], x_train.shape[2], 3)\n",
        "x_test = x_test.reshape(x_test.shape[0], x_test.shape[1], x_test.shape[2], 3)\n",
        "\n",
        "x_train=x_train / 255.0\n",
        "x_test=x_test / 255.0"
      ],
      "metadata": {
        "id": "z-K61IjqX2ck"
      },
      "execution_count": 18,
      "outputs": []
    },
    {
      "cell_type": "markdown",
      "source": [
        "Making the Y values one hot so that only the result has value of 1 and rest values will be 0"
      ],
      "metadata": {
        "id": "jLj5en-TgifW"
      }
    },
    {
      "cell_type": "code",
      "source": [
        "y_train = tf.one_hot(y_train.astype(np.int32), depth=10)\n",
        "y_test = tf.one_hot(y_test.astype(np.int32), depth=10)"
      ],
      "metadata": {
        "id": "Eja8Pw7Igg_F"
      },
      "execution_count": 19,
      "outputs": []
    },
    {
      "cell_type": "markdown",
      "source": [
        "Visualising data"
      ],
      "metadata": {
        "id": "9aLjUTlXgkr8"
      }
    },
    {
      "cell_type": "code",
      "source": [
        "plt.imshow(x_train[100])\n",
        "print(y_train[100])"
      ],
      "metadata": {
        "id": "IPWMECOwgnjI",
        "outputId": "9bb02bad-5457-4d46-b3d9-7893fd523b96",
        "colab": {
          "base_uri": "https://localhost:8080/",
          "height": 283
        }
      },
      "execution_count": 21,
      "outputs": [
        {
          "output_type": "stream",
          "name": "stdout",
          "text": [
            "tf.Tensor([0. 0. 0. 0. 0. 0. 0. 0. 1. 0.], shape=(10,), dtype=float32)\n"
          ]
        },
        {
          "output_type": "display_data",
          "data": {
            "text/plain": [
              "<Figure size 432x288 with 1 Axes>"
            ],
            "image/png": "[encoded data removed]"
          },
          "metadata": {
            "needs_background": "light"
          }
        }
      ]
    },
    {
      "cell_type": "markdown",
      "source": [
        "Defining the CNN model"
      ],
      "metadata": {
        "id": "oknArR3Bgq_B"
      }
    },
    {
      "cell_type": "code",
      "source": [
        "batch_size = 32\n",
        "num_classes = 10\n",
        "epochs = 50\n",
        "\n",
        "\n",
        "model = tf.keras.models.Sequential([\n",
        "    tf.keras.layers.Conv2D(64, 3, padding='same', input_shape=x_train.shape[1:], activation='relu'),\n",
        "    tf.keras.layers.Conv2D(64, 3, activation='relu'),\n",
        "    tf.keras.layers.MaxPooling2D(),\n",
        "    tf.keras.layers.Dropout(0.25),\n",
        "\n",
        "    tf.keras.layers.Conv2D(128, 3, padding='same', activation='relu'),\n",
        "    tf.keras.layers.Conv2D(128, 3, activation='relu'),\n",
        "    tf.keras.layers.MaxPooling2D(),\n",
        "    tf.keras.layers.Dropout(0.25),\n",
        "\n",
        "    tf.keras.layers.Flatten(),\n",
        "    tf.keras.layers.Dense(64, activation='relu'),\n",
        "    tf.keras.layers.Dropout(0.5),\n",
        "    tf.keras.layers.Dense(num_classes, activation='softmax'),\n",
        "])\n",
        "\n",
        "model.compile(optimizer=tf.keras.optimizers.RMSprop(learning_rate=0.0001, decay=1e-06), loss='categorical_crossentropy', metrics=['acc'])"
      ],
      "metadata": {
        "id": "swV82xVciMeW"
      },
      "execution_count": 22,
      "outputs": []
    },
    {
      "cell_type": "markdown",
      "source": [
        "Fitting the data as well and training"
      ],
      "metadata": {
        "id": "jjhBRyxjiZFa"
      }
    },
    {
      "cell_type": "code",
      "source": [
        "history = model.fit(x_train, y_train, batch_size=batch_size, epochs=epochs)"
      ],
      "metadata": {
        "id": "8AJhYEXDiepK",
        "outputId": "53387852-9700-4650-f306-a68fd907e394",
        "colab": {
          "base_uri": "https://localhost:8080/"
        }
      },
      "execution_count": 23,
      "outputs": [
        {
          "output_type": "stream",
          "name": "stdout",
          "text": [
            "Epoch 1/50\n",
            "1563/1563 [==============================] - 233s 148ms/step - loss: 2.1398 - acc: 0.2113\n",
            "Epoch 2/50\n",
            "1563/1563 [==============================] - 236s 151ms/step - loss: 1.9856 - acc: 0.2872\n",
            "Epoch 3/50\n",
            "1563/1563 [==============================] - 238s 152ms/step - loss: 1.8914 - acc: 0.3234\n",
            "Epoch 4/50\n",
            "1563/1563 [==============================] - 243s 155ms/step - loss: 1.8047 - acc: 0.3529\n",
            "Epoch 5/50\n",
            "1563/1563 [==============================] - 242s 155ms/step - loss: 1.7339 - acc: 0.3779\n",
            "Epoch 6/50\n",
            "1563/1563 [==============================] - 243s 155ms/step - loss: 1.6864 - acc: 0.3932\n",
            "Epoch 7/50\n",
            "1563/1563 [==============================] - 243s 155ms/step - loss: 1.6429 - acc: 0.4059\n",
            "Epoch 8/50\n",
            "1563/1563 [==============================] - 240s 153ms/step - loss: 1.6083 - acc: 0.4214\n",
            "Epoch 9/50\n",
            "1563/1563 [==============================] - 243s 155ms/step - loss: 1.5760 - acc: 0.4318\n",
            "Epoch 10/50\n",
            "1563/1563 [==============================] - 244s 156ms/step - loss: 1.5458 - acc: 0.4460\n",
            "Epoch 11/50\n",
            "1563/1563 [==============================] - 244s 156ms/step - loss: 1.5149 - acc: 0.4553\n",
            "Epoch 12/50\n",
            "1563/1563 [==============================] - 245s 157ms/step - loss: 1.4867 - acc: 0.4665\n",
            "Epoch 13/50\n",
            "1563/1563 [==============================] - 244s 156ms/step - loss: 1.4608 - acc: 0.4768\n",
            "Epoch 14/50\n",
            "1563/1563 [==============================] - 236s 151ms/step - loss: 1.4381 - acc: 0.4832\n",
            "Epoch 15/50\n",
            "1563/1563 [==============================] - 237s 151ms/step - loss: 1.4126 - acc: 0.4943\n",
            "Epoch 16/50\n",
            "1563/1563 [==============================] - 237s 151ms/step - loss: 1.3898 - acc: 0.5013\n",
            "Epoch 17/50\n",
            "1563/1563 [==============================] - 236s 151ms/step - loss: 1.3749 - acc: 0.5071\n",
            "Epoch 18/50\n",
            "1563/1563 [==============================] - 237s 152ms/step - loss: 1.3533 - acc: 0.5154\n",
            "Epoch 19/50\n",
            "1563/1563 [==============================] - 237s 151ms/step - loss: 1.3376 - acc: 0.5230\n",
            "Epoch 20/50\n",
            "1563/1563 [==============================] - 244s 156ms/step - loss: 1.3193 - acc: 0.5299\n",
            "Epoch 21/50\n",
            "1563/1563 [==============================] - 237s 152ms/step - loss: 1.3060 - acc: 0.5355\n",
            "Epoch 22/50\n",
            "1563/1563 [==============================] - 239s 153ms/step - loss: 1.2876 - acc: 0.5421\n",
            "Epoch 23/50\n",
            "1563/1563 [==============================] - 239s 153ms/step - loss: 1.2729 - acc: 0.5476\n",
            "Epoch 24/50\n",
            "1563/1563 [==============================] - 239s 153ms/step - loss: 1.2635 - acc: 0.5522\n",
            "Epoch 25/50\n",
            "1563/1563 [==============================] - 240s 153ms/step - loss: 1.2481 - acc: 0.5553\n",
            "Epoch 26/50\n",
            "1563/1563 [==============================] - 238s 152ms/step - loss: 1.2341 - acc: 0.5613\n",
            "Epoch 27/50\n",
            "1563/1563 [==============================] - 239s 153ms/step - loss: 1.2278 - acc: 0.5653\n",
            "Epoch 28/50\n",
            "1563/1563 [==============================] - 243s 155ms/step - loss: 1.2092 - acc: 0.5713\n",
            "Epoch 29/50\n",
            "1563/1563 [==============================] - 242s 155ms/step - loss: 1.2039 - acc: 0.5756\n",
            "Epoch 30/50\n",
            "1563/1563 [==============================] - 242s 155ms/step - loss: 1.1939 - acc: 0.5805\n",
            "Epoch 31/50\n",
            "1563/1563 [==============================] - 242s 155ms/step - loss: 1.1863 - acc: 0.5809\n",
            "Epoch 32/50\n",
            "1563/1563 [==============================] - 244s 156ms/step - loss: 1.1723 - acc: 0.5855\n",
            "Epoch 33/50\n",
            "1563/1563 [==============================] - 243s 156ms/step - loss: 1.1658 - acc: 0.5900\n",
            "Epoch 34/50\n",
            "1563/1563 [==============================] - 244s 156ms/step - loss: 1.1580 - acc: 0.5947\n",
            "Epoch 35/50\n",
            "1563/1563 [==============================] - 242s 155ms/step - loss: 1.1547 - acc: 0.5902\n",
            "Epoch 36/50\n",
            "1563/1563 [==============================] - 241s 154ms/step - loss: 1.1383 - acc: 0.5994\n",
            "Epoch 37/50\n",
            "1563/1563 [==============================] - 242s 155ms/step - loss: 1.1343 - acc: 0.6015\n",
            "Epoch 38/50\n",
            "1563/1563 [==============================] - 243s 155ms/step - loss: 1.1327 - acc: 0.6058\n",
            "Epoch 39/50\n",
            "1563/1563 [==============================] - 244s 156ms/step - loss: 1.1214 - acc: 0.6082\n",
            "Epoch 40/50\n",
            "1563/1563 [==============================] - 243s 156ms/step - loss: 1.1148 - acc: 0.6103\n",
            "Epoch 41/50\n",
            "1563/1563 [==============================] - 244s 156ms/step - loss: 1.1071 - acc: 0.6148\n",
            "Epoch 42/50\n",
            "1563/1563 [==============================] - 243s 156ms/step - loss: 1.1058 - acc: 0.6155\n",
            "Epoch 43/50\n",
            "1563/1563 [==============================] - 242s 155ms/step - loss: 1.0961 - acc: 0.6193\n",
            "Epoch 44/50\n",
            "1563/1563 [==============================] - 243s 156ms/step - loss: 1.0874 - acc: 0.6218\n",
            "Epoch 45/50\n",
            "1563/1563 [==============================] - 243s 155ms/step - loss: 1.0872 - acc: 0.6234\n",
            "Epoch 46/50\n",
            "1563/1563 [==============================] - 240s 154ms/step - loss: 1.0797 - acc: 0.6239\n",
            "Epoch 47/50\n",
            "1563/1563 [==============================] - 239s 153ms/step - loss: 1.0705 - acc: 0.6286\n",
            "Epoch 48/50\n",
            "1563/1563 [==============================] - 240s 153ms/step - loss: 1.0699 - acc: 0.6287\n",
            "Epoch 49/50\n",
            "1563/1563 [==============================] - 240s 153ms/step - loss: 1.0613 - acc: 0.6300\n",
            "Epoch 50/50\n",
            "1563/1563 [==============================] - 241s 154ms/step - loss: 1.0572 - acc: 0.6330\n"
          ]
        }
      ]
    },
    {
      "cell_type": "markdown",
      "source": [
        "Evaluating and plotting the model results"
      ],
      "metadata": {
        "id": "nm_pCwN2ik7O"
      }
    },
    {
      "cell_type": "code",
      "source": [
        "fig, ax = plt.subplots(2,1)\n",
        "ax[0].plot(history.history['loss'], color='b', label=\"Training Loss\")\n",
        "legend = ax[0].legend(loc='best', shadow=True)\n",
        "\n",
        "ax[1].plot(history.history['acc'], color='b', label=\"Training Accuracy\")\n",
        "legend = ax[1].legend(loc='best', shadow=True)"
      ],
      "metadata": {
        "id": "Di5DTkQIiqm1",
        "outputId": "58f1fcc1-281f-4b6e-c9d1-eac544e60854",
        "colab": {
          "base_uri": "https://localhost:8080/",
          "height": 265
        }
      },
      "execution_count": 24,
      "outputs": [
        {
          "output_type": "display_data",
          "data": {
            "text/plain": [
              "<Figure size 432x288 with 2 Axes>"
            ],
            "image/png": "[encoded data removed]"
          },
          "metadata": {
            "needs_background": "light"
          }
        }
      ]
    },
    {
      "cell_type": "markdown",
      "source": [
        "Prediction results including accuracy"
      ],
      "metadata": {
        "id": "WwYj7D1-iuhn"
      }
    },
    {
      "cell_type": "code",
      "source": [
        "test_loss, test_acc = model.evaluate(x_test, y_test)\n"
      ],
      "metadata": {
        "id": "57MwvGZdizcM",
        "outputId": "609d61f3-70f7-4601-f53b-82b95b6567a8",
        "colab": {
          "base_uri": "https://localhost:8080/"
        }
      },
      "execution_count": 25,
      "outputs": [
        {
          "output_type": "stream",
          "name": "stdout",
          "text": [
            "313/313 [==============================] - 12s 39ms/step - loss: 1.0339 - acc: 0.6448\n"
          ]
        }
      ]
    }
  ]
}